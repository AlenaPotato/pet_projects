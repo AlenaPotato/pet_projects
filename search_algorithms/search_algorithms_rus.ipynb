{
  "nbformat": 4,
  "nbformat_minor": 0,
  "metadata": {
    "colab": {
      "provenance": [],
      "toc_visible": true,
      "authorship_tag": "ABX9TyNsw1I0f4q1sI7nDB9CjmwS",
      "include_colab_link": true
    },
    "kernelspec": {
      "name": "python3",
      "display_name": "Python 3"
    },
    "language_info": {
      "name": "python"
    }
  },
  "cells": [
    {
      "cell_type": "markdown",
      "metadata": {
        "id": "view-in-github",
        "colab_type": "text"
      },
      "source": [
        "<a href=\"https://colab.research.google.com/github/AlenaPotato/pet_projects/blob/main/search_algorithms/search_algorithms_rus.ipynb\" target=\"_parent\"><img src=\"https://colab.research.google.com/assets/colab-badge.svg\" alt=\"Open In Colab\"/></a>"
      ]
    },
    {
      "cell_type": "markdown",
      "source": [
        "Во время одного из интервью на позицию аналитика данных мне предложили решить задачу, связанную с алгоритмом бинарного поиска. Такое тестовое мне было предложено впервые и подобные задачи до этого момента я не решала. И на тот момент я не до конца понимала, почему знания алгоритмов могут быть полезны в работе аналитика данных.\n",
        "\n",
        "Порефлексировав над этим опытом, я решила глубже погрузиться в тему алгоритмов. Оказалось, что они играют важную роль в ряде аспектов аналитической работы:\n",
        "- Они позволяют находить оптимальные решения для обработки больших объемов данных.\n",
        "- Понимание алгоритмов способствует лучшему пониманию принципов работы машинного обучения.\n",
        "\n",
        "Для тренировки алгортмов буду пользоваться той постановкой задачи, какую мне поставили на собеседовании:  есть диапазон значений от 1 до 1,000,000 (случайным образом расположенные). Диапазон включает 1,000 элементов. Задача — найти позицию 5-го числа в отсортированном диапазоне.\n",
        "\n"
      ],
      "metadata": {
        "id": "EwacIV89pfxe"
      }
    },
    {
      "cell_type": "markdown",
      "source": [
        "# Подготовка"
      ],
      "metadata": {
        "id": "OKoiNkz1uPPH"
      }
    },
    {
      "cell_type": "code",
      "source": [
        "import random\n",
        "import pandas as pd\n",
        "\n",
        "l = []\n",
        "for i in range(1,1001):\n",
        "  l.append(random.randint(1, 1000000))\n",
        "\n"
      ],
      "metadata": {
        "id": "JNMDcOmpphj8"
      },
      "execution_count": 44,
      "outputs": []
    },
    {
      "cell_type": "code",
      "source": [
        "l_series = pd.Series(l)\n",
        "l_series.describe()"
      ],
      "metadata": {
        "id": "7d5BmCdEpJUs",
        "colab": {
          "base_uri": "https://localhost:8080/",
          "height": 335
        },
        "outputId": "94fd6244-4553-4d5a-d050-495068cbc2af"
      },
      "execution_count": 45,
      "outputs": [
        {
          "output_type": "execute_result",
          "data": {
            "text/plain": [
              "count      1000.000000\n",
              "mean     486026.254000\n",
              "std      282472.215044\n",
              "min         960.000000\n",
              "25%      247909.500000\n",
              "50%      480730.000000\n",
              "75%      726245.000000\n",
              "max      998069.000000\n",
              "dtype: float64"
            ],
            "text/html": [
              "<div>\n",
              "<style scoped>\n",
              "    .dataframe tbody tr th:only-of-type {\n",
              "        vertical-align: middle;\n",
              "    }\n",
              "\n",
              "    .dataframe tbody tr th {\n",
              "        vertical-align: top;\n",
              "    }\n",
              "\n",
              "    .dataframe thead th {\n",
              "        text-align: right;\n",
              "    }\n",
              "</style>\n",
              "<table border=\"1\" class=\"dataframe\">\n",
              "  <thead>\n",
              "    <tr style=\"text-align: right;\">\n",
              "      <th></th>\n",
              "      <th>0</th>\n",
              "    </tr>\n",
              "  </thead>\n",
              "  <tbody>\n",
              "    <tr>\n",
              "      <th>count</th>\n",
              "      <td>1000.000000</td>\n",
              "    </tr>\n",
              "    <tr>\n",
              "      <th>mean</th>\n",
              "      <td>486026.254000</td>\n",
              "    </tr>\n",
              "    <tr>\n",
              "      <th>std</th>\n",
              "      <td>282472.215044</td>\n",
              "    </tr>\n",
              "    <tr>\n",
              "      <th>min</th>\n",
              "      <td>960.000000</td>\n",
              "    </tr>\n",
              "    <tr>\n",
              "      <th>25%</th>\n",
              "      <td>247909.500000</td>\n",
              "    </tr>\n",
              "    <tr>\n",
              "      <th>50%</th>\n",
              "      <td>480730.000000</td>\n",
              "    </tr>\n",
              "    <tr>\n",
              "      <th>75%</th>\n",
              "      <td>726245.000000</td>\n",
              "    </tr>\n",
              "    <tr>\n",
              "      <th>max</th>\n",
              "      <td>998069.000000</td>\n",
              "    </tr>\n",
              "  </tbody>\n",
              "</table>\n",
              "</div><br><label><b>dtype:</b> float64</label>"
            ]
          },
          "metadata": {},
          "execution_count": 45
        }
      ]
    },
    {
      "cell_type": "code",
      "source": [
        "l.sort()\n",
        "l[:10]"
      ],
      "metadata": {
        "id": "aUe0n_BMslIF",
        "colab": {
          "base_uri": "https://localhost:8080/"
        },
        "outputId": "dbe7d6e8-b60b-4077-8591-8a92b00e6277"
      },
      "execution_count": 46,
      "outputs": [
        {
          "output_type": "execute_result",
          "data": {
            "text/plain": [
              "[960, 1729, 3129, 3465, 5308, 5981, 6295, 6627, 10136, 10672]"
            ]
          },
          "metadata": {},
          "execution_count": 46
        }
      ]
    },
    {
      "cell_type": "code",
      "source": [
        "target = l[4]\n",
        "target"
      ],
      "metadata": {
        "id": "i5Ykp3coslK2",
        "colab": {
          "base_uri": "https://localhost:8080/"
        },
        "outputId": "360aded9-a881-4724-f903-240b1837ca5b"
      },
      "execution_count": 47,
      "outputs": [
        {
          "output_type": "execute_result",
          "data": {
            "text/plain": [
              "5308"
            ]
          },
          "metadata": {},
          "execution_count": 47
        }
      ]
    },
    {
      "cell_type": "markdown",
      "source": [
        "# Линейный поиск (Linear Search)"
      ],
      "metadata": {
        "id": "beFOK2Vz_W2r"
      }
    },
    {
      "cell_type": "markdown",
      "source": [
        "Самый простой алгоритм. Суть его заключается в том, что он последовательно проверяет каждый элемент списка до тех пор, пока не найдёт нужный элемент. Если массив данных достаточно небольшой, то этот алгоритм будет сподручен."
      ],
      "metadata": {
        "id": "eFCFsn6ZAwYf"
      }
    },
    {
      "cell_type": "code",
      "source": [
        "for i in range(len(l)):\n",
        "  if l[i] == target:\n",
        "    break\n",
        "\n",
        "print(i, l[i])"
      ],
      "metadata": {
        "colab": {
          "base_uri": "https://localhost:8080/"
        },
        "id": "oqZ5FuVeBTl8",
        "outputId": "3b728969-e476-496f-feb2-62a0b5e26b84"
      },
      "execution_count": 55,
      "outputs": [
        {
          "output_type": "stream",
          "name": "stdout",
          "text": [
            "4 5308\n"
          ]
        }
      ]
    },
    {
      "cell_type": "markdown",
      "source": [
        "# Бинарный поиск (Binary Search)"
      ],
      "metadata": {
        "id": "r7gE7iUvuZC7"
      }
    },
    {
      "cell_type": "markdown",
      "source": [
        "Как раз тот самый алгоритм, про который меня спросили на собеседовании. Как он работает мы вместе с собеседующим сообразили, а вот реализацию довести до конца у меня до конца не вышло.\n",
        "\n",
        "Алгоритм бинарного поиска работает только на отсортированном диапазоне.\n",
        "\n",
        "Алгоритм делит диапазон пополам и проверяет, в какой половине находится искомое значение. Затем берёт половину, в которой находится искомое значение, и делит её вновь пополам. Процесс с делением повторяется до тех пор, пока не будет найдена позиция."
      ],
      "metadata": {
        "id": "6auHqtCFudCV"
      }
    },
    {
      "cell_type": "code",
      "source": [
        "end_l = len(l) - 1\n",
        "start_l = 0\n",
        "f = 0\n",
        "\n",
        "\n",
        "while start_l < end_l:\n",
        "  mid = (start_l + end_l) // 2\n",
        "\n",
        "  if target == l[mid]:\n",
        "    f = 1\n",
        "    break\n",
        "\n",
        "  elif target < l[mid]:\n",
        "    end_l = mid - 1\n",
        "\n",
        "  elif target > l[mid]:\n",
        "    start_l = mid + 1\n",
        "\n",
        "\n",
        "\n",
        "print(start_l, end_l)\n",
        "print(*l[start_l+1: end_l])"
      ],
      "metadata": {
        "id": "UfCiBGBHslM6",
        "colab": {
          "base_uri": "https://localhost:8080/"
        },
        "outputId": "271dd325-d166-4594-e218-47d5b5e573bd"
      },
      "execution_count": 49,
      "outputs": [
        {
          "output_type": "stream",
          "name": "stdout",
          "text": [
            "3 5\n",
            "5308\n"
          ]
        }
      ]
    },
    {
      "cell_type": "markdown",
      "source": [
        "# Алгоритм прыжкового поиска (Jump Search)"
      ],
      "metadata": {
        "id": "Tqs2dXsiHNnu"
      }
    },
    {
      "cell_type": "markdown",
      "source": [
        "Алгоритм прыжкового поиска предназначен для работы с отсортированными массивами. Он представляет собой компромисс между линейным и бинарным поисками, сочетая их лучшие качества. Вместо того чтобы проверять каждый элемент (как в линейном поиске), алгоритм сразу переходит через определённое количество элементов (делает \"прыжок\"). Если элемент, на который приземлился алгоритм, больше целевого значения, то он возвращается назад и выполняет линейный поиск внутри предыдущего блока. Размер прыжка обычно выбирается равным квадратному корню из длины массива."
      ],
      "metadata": {
        "id": "ffF6TLPnHQc9"
      }
    },
    {
      "cell_type": "code",
      "source": [
        "import math\n",
        "\n",
        "step = int(math.sqrt(end_l))  # Определение размера прыжка\n",
        "\n",
        "# Прыжки по массиву\n",
        "while l[min(step, end_l)-1] < target:\n",
        "    start_l, step = step, step*2\n",
        "    if step >= end_l:\n",
        "        break\n",
        "\n",
        "# Линейный поиск внутри блока\n",
        "for i in range(start_l, min(step, end_l)):\n",
        "    if l[i] == target:\n",
        "      break\n",
        "\n",
        "print(i, l[i])"
      ],
      "metadata": {
        "id": "pMUo5aoOHQxR",
        "colab": {
          "base_uri": "https://localhost:8080/"
        },
        "outputId": "21f4fa9d-5c68-457c-b04f-3368b78d47d7"
      },
      "execution_count": 50,
      "outputs": [
        {
          "output_type": "stream",
          "name": "stdout",
          "text": [
            "4 5308\n"
          ]
        }
      ]
    },
    {
      "cell_type": "markdown",
      "source": [
        "# Интерполяционный поиск (Interpolation Search)"
      ],
      "metadata": {
        "id": "lQHsAvcNHvQW"
      }
    },
    {
      "cell_type": "markdown",
      "source": [
        "Интерполяционный поиск — более усовершенствованный алгоритм поиска, который работает аналогично бинарному поиску, но делит области не пополам, а в зависимости от расстояния между ключом и текущим значением. Чтобы рассчитать это самое расстоние, алгоритм применяет специальную формулу:\n",
        "\n",
        "$pos = start_l + \\frac{(end_l - start_l)} {(l[end_l] - l[start_l]) * (target - l[start_l])}$\n",
        "\n"
      ],
      "metadata": {
        "id": "8F3cKDE9DO0J"
      }
    },
    {
      "cell_type": "code",
      "source": [
        "print(f'Индексы: {start_l, end_l}')\n",
        "print(f'Значения: {l[0], l[end_l]}')\n",
        "print(f'Цель: {target}')\n",
        "print(start_l + ((end_l - start_l) // (l[end_l] - l[start_l]) * (target - l[start_l])))"
      ],
      "metadata": {
        "colab": {
          "base_uri": "https://localhost:8080/"
        },
        "id": "XOPDy8KB7l9A",
        "outputId": "f682f9ba-edc4-4196-fac7-50d2334fac19"
      },
      "execution_count": 51,
      "outputs": [
        {
          "output_type": "stream",
          "name": "stdout",
          "text": [
            "Индексы: (4, 5)\n",
            "Значения: (960, 5981)\n",
            "Цель: 5308\n",
            "4\n"
          ]
        }
      ]
    },
    {
      "cell_type": "code",
      "source": [
        "pd.DataFrame(l).plot(kind='hist');"
      ],
      "metadata": {
        "colab": {
          "base_uri": "https://localhost:8080/",
          "height": 451
        },
        "id": "vthC1UU38x2d",
        "outputId": "fbf3dcb4-fd7f-46ef-aa3d-408b7c755b68"
      },
      "execution_count": 52,
      "outputs": [
        {
          "output_type": "display_data",
          "data": {
            "text/plain": [
              "<Figure size 640x480 with 1 Axes>"
            ],
            "image/png": "[encoded data removed]"
          },
          "metadata": {}
        }
      ]
    },
    {
      "cell_type": "code",
      "source": [
        "end_l = len(l) - 1\n",
        "start_l = 0\n",
        "position = - 1\n",
        "\n",
        "while start_l <= end_l and target >= l[start_l] and target <= l[end_l]:\n",
        "    pos = start_l + ((end_l - start_l) // (l[end_l] - l[start_l]) * (target - l[start_l]))\n",
        "\n",
        "    if l[pos] == target:\n",
        "        position = pos\n",
        "        break\n",
        "    elif l[pos] < target:\n",
        "        start_l = pos + 1\n",
        "    else:\n",
        "        end_l = pos - 1\n",
        "\n",
        "print(position, l[position])\n"
      ],
      "metadata": {
        "id": "QWUA6CY9KwqX",
        "colab": {
          "base_uri": "https://localhost:8080/"
        },
        "outputId": "9d7156f1-7c4d-430d-afeb-12796843deb3"
      },
      "execution_count": 53,
      "outputs": [
        {
          "output_type": "stream",
          "name": "stdout",
          "text": [
            "4 5308\n"
          ]
        }
      ]
    },
    {
      "cell_type": "markdown",
      "source": [
        "# Экспоненциальный поиск (Exponential Search)"
      ],
      "metadata": {
        "id": "Zc2y-WYAH5If"
      }
    },
    {
      "cell_type": "markdown",
      "source": [
        "Экспоненциальный поиск используется, если размер массива неизвестен. Алгоритм сначала ищет диапазон, в котором может находиться искомый элемент, увеличивая индекс в экспоненциальной прогрессии, а затем применяет бинарный поиск в найденном диапазоне."
      ],
      "metadata": {
        "id": "6dXy5_0vDSLa"
      }
    },
    {
      "cell_type": "code",
      "source": [
        "position = -1\n",
        "\n",
        "if l[0] == target:\n",
        "    position = 0\n",
        "else:\n",
        "    index = 1\n",
        "    while index < len(l) and l[index] <= target:\n",
        "        index *= 2\n",
        "\n",
        "    low = index // 2\n",
        "    high = min(index, len(l) - 1)\n",
        "\n",
        "    while low <= high:\n",
        "        mid = (low + high) // 2\n",
        "        if l[mid] == target:\n",
        "            position = mid\n",
        "            break\n",
        "        elif l[mid] < target:\n",
        "            low = mid + 1\n",
        "        else:\n",
        "            high = mid - 1\n",
        "\n",
        "print(position, l[position])\n"
      ],
      "metadata": {
        "id": "h-o64N5nslO_",
        "colab": {
          "base_uri": "https://localhost:8080/"
        },
        "outputId": "64346ad7-8451-4d83-ff73-26d70386ff3a"
      },
      "execution_count": 54,
      "outputs": [
        {
          "output_type": "stream",
          "name": "stdout",
          "text": [
            "4 5308\n"
          ]
        }
      ]
    },
    {
      "cell_type": "markdown",
      "source": [
        "# Выводы"
      ],
      "metadata": {
        "id": "HYqI0rtedBqw"
      }
    },
    {
      "cell_type": "markdown",
      "source": [
        "В этом проекте я рассмотрела четыре алгоритма поиска: линейный поиск, бинарный поиск, прыжковый поиск, интерполяционный поиск и экспоненциальный поиск. Каждый из этих алгоритмов имеет свои особенности и применяется в разных ситуациях:\n",
        "\n",
        "- Линейный поиск позволяет последовательно проверить каждый элемент массива, что просто, но неэффективно для больших объемов данных.\n",
        "- Бинарный поиск значительно ускоряет процесс поиска в отсортированных массивах, разделяя диапазон на половины.\n",
        "- Прыжковый поиск полезен, когда линейный поиск слишком медленный, а бинарный поиск может быть избыточным.\n",
        "- Интерполяционный поиск использует свойства линейной интерполяции, что делает его эффективным при равномерном распределении данных.\n",
        "- Экспоненциальный поиск находит диапазон, в котором может находиться элемент, и затем применяет бинарный поиск внутри этого диапазона.\n",
        "\n",
        "Каждый из этих алгоритмов по-своему полезен. Знание этих алгоритмов расширяет мои возможности как аналитика, помогая выбирать оптимальные методы для решения различных задач в повседневной работе."
      ],
      "metadata": {
        "id": "OmhLVV3cPnhK"
      }
    }
  ]
}