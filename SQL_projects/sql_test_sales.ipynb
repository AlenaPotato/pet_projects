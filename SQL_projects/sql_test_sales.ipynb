{
  "nbformat": 4,
  "nbformat_minor": 0,
  "metadata": {
    "colab": {
      "provenance": [],
      "toc_visible": true,
      "authorship_tag": "ABX9TyNWxVA3wOJwS7+Kbz/lY8Ko",
      "include_colab_link": true
    },
    "kernelspec": {
      "name": "python3",
      "display_name": "Python 3"
    },
    "language_info": {
      "name": "python"
    }
  },
  "cells": [
    {
      "cell_type": "markdown",
      "metadata": {
        "id": "view-in-github",
        "colab_type": "text"
      },
      "source": [
        "<a href=\"https://colab.research.google.com/github/AlenaPotato/pet_projects/blob/main/SQL_projects/sql_test_sales.ipynb\" target=\"_parent\"><img src=\"https://colab.research.google.com/assets/colab-badge.svg\" alt=\"Open In Colab\"/></a>"
      ]
    },
    {
      "cell_type": "markdown",
      "source": [
        "Мотивация к проекту\n",
        "---\n",
        "Мне было предложено решить тестовое задание на знание SQL. Причём задание было не на специальной тренировочной платформе, а в виде excel-файла с таблицами \"было\" и \"что нужно получить\".\n",
        "\n",
        "Поскольку у меня не было предустановленного приложения для управления базами данных, я решила создать свою в colab и выполнить задание тут."
      ],
      "metadata": {
        "id": "2Eos2WUFSYxR"
      }
    },
    {
      "cell_type": "markdown",
      "source": [
        "# Setup"
      ],
      "metadata": {
        "id": "DX_QhnPsVIPQ"
      }
    },
    {
      "cell_type": "code",
      "source": [
        "import sqlite3\n",
        "conn = sqlite3.connect('test.db')"
      ],
      "metadata": {
        "id": "exwDMz0xSZFF"
      },
      "execution_count": 1,
      "outputs": []
    },
    {
      "cell_type": "code",
      "source": [
        "conn.execute(''' CREATE TABLE sales(\n",
        "                  date DATETIME,\n",
        "                  product NVARCHAR,\n",
        "                  sales INTEGER); ''')\n",
        "conn.commit()\n",
        "\n",
        "print('The table sales is created.')"
      ],
      "metadata": {
        "colab": {
          "base_uri": "https://localhost:8080/"
        },
        "id": "CJna_FreGjBJ",
        "outputId": "b65e5dca-cf0b-4511-ae9d-795f7d94fd55"
      },
      "execution_count": 2,
      "outputs": [
        {
          "output_type": "stream",
          "name": "stdout",
          "text": [
            "The table sales is created.\n"
          ]
        }
      ]
    },
    {
      "cell_type": "code",
      "source": [
        "conn.execute('''\n",
        "INSERT INTO\n",
        "    sales (date, product, sales)\n",
        "VALUES\n",
        "    ('2022-01-01','a',1979),\n",
        "    ('2022-02-01','a',6416),\n",
        "    ('2022-03-01','a',7332),\n",
        "    ('2022-04-01','a',3446),\n",
        "    ('2022-05-01','a',5276),\n",
        "    ('2022-06-01','a',5815),\n",
        "    ('2022-07-01','a',1070),\n",
        "    ('2022-08-01','a',8589),\n",
        "    ('2022-09-01','a',1794),\n",
        "    ('2022-10-01','a',9399),\n",
        "    ('2022-11-01','a',3988),\n",
        "    ('2022-12-01','a',2076),\n",
        "    ('2023-01-01','a',9460),\n",
        "    ('2023-02-01','a',0),\n",
        "    ('2023-03-01','a',4915),\n",
        "    ('2023-04-01','a',8284),\n",
        "    ('2023-05-01','a',5621),\n",
        "    ('2023-06-01','a',2764),\n",
        "    ('2023-07-01','a',3158),\n",
        "    ('2023-08-01','a',2453),\n",
        "    ('2023-09-01','a',5182),\n",
        "    ('2022-01-01','b',4195),\n",
        "    ('2022-02-01','b',9905),\n",
        "    ('2022-03-01','b',9628),\n",
        "    ('2022-04-01','b',4253),\n",
        "    ('2022-05-01','b',1376),\n",
        "    ('2022-06-01','b',9605),\n",
        "    ('2022-07-01','b',9920),\n",
        "    ('2022-08-01','b',9646),\n",
        "    ('2022-09-01','b',9730),\n",
        "    ('2022-10-01','b',2219),\n",
        "    ('2022-11-01','b',4498),\n",
        "    ('2022-12-01','b',9784),\n",
        "    ('2023-01-01','b',1889),\n",
        "    ('2023-02-01','b',8906),\n",
        "    ('2023-03-01','b',4355),\n",
        "    ('2023-04-01','b',4695),\n",
        "    ('2023-05-01','b',2488),\n",
        "    ('2023-06-01','b',1724),\n",
        "    ('2023-07-01','b',9436),\n",
        "    ('2023-08-01','b',7706),\n",
        "    ('2023-09-01','b',3363),\n",
        "    ('2022-01-01','c',9879),\n",
        "    ('2022-02-01','c',1567),\n",
        "    ('2022-03-01','c',1783),\n",
        "    ('2022-04-01','c',8777),\n",
        "    ('2022-05-01','c',6213),\n",
        "    ('2022-07-01','c',1622),\n",
        "    ('2022-08-01','c',3691),\n",
        "    ('2022-09-01','c',7216),\n",
        "    ('2022-10-01','c',9077),\n",
        "    ('2022-11-01','c',3979),\n",
        "    ('2022-12-01','c',7714),\n",
        "    ('2023-01-01','c',5837),\n",
        "    ('2023-02-01','c',9410),\n",
        "    ('2023-03-01','c',2200),\n",
        "    ('2023-04-01','c',7888),\n",
        "    ('2023-05-01','c',7998),\n",
        "    ('2023-06-01','c',8165),\n",
        "    ('2023-07-01','c',2699),\n",
        "    ('2023-08-01','c',7454),\n",
        "    ('2023-09-01','c',1268);\n",
        "''')\n",
        "\n",
        "conn.commit()"
      ],
      "metadata": {
        "id": "366Q-I2fAfug"
      },
      "execution_count": 3,
      "outputs": []
    },
    {
      "cell_type": "code",
      "source": [
        "conn = sqlite3.connect('test.db')\n"
      ],
      "metadata": {
        "id": "0S5owcIJBlXG"
      },
      "execution_count": 4,
      "outputs": []
    },
    {
      "cell_type": "code",
      "source": [
        "# проверка\n",
        "cursor = conn.execute(\n",
        "    '''\n",
        "    SELECT *\n",
        "    FROM sales\n",
        "    WHERE date > '2023-01-01'\n",
        "    AND product = 'a'\n",
        "\n",
        " ''')\n",
        "\n",
        "for row in cursor:\n",
        "  print(row)"
      ],
      "metadata": {
        "colab": {
          "base_uri": "https://localhost:8080/"
        },
        "id": "C1ohFhotDznx",
        "outputId": "63579f36-5afe-4a92-8e2f-64b1703bb3da"
      },
      "execution_count": 51,
      "outputs": [
        {
          "output_type": "stream",
          "name": "stdout",
          "text": [
            "('2023-02-01', 'a', 0)\n",
            "('2023-03-01', 'a', 4915)\n",
            "('2023-04-01', 'a', 8284)\n",
            "('2023-05-01', 'a', 5621)\n",
            "('2023-06-01', 'a', 2764)\n",
            "('2023-07-01', 'a', 3158)\n",
            "('2023-08-01', 'a', 2453)\n",
            "('2023-09-01', 'a', 5182)\n"
          ]
        }
      ]
    },
    {
      "cell_type": "markdown",
      "source": [
        "# Побочные запросы"
      ],
      "metadata": {
        "id": "Gvup8jvmVyWm"
      }
    },
    {
      "cell_type": "markdown",
      "source": [
        "Запросы, направленные на проработку навыков написания SQL-запросов (в оригинальное задание не входило)."
      ],
      "metadata": {
        "id": "WRpeR8xI3lYG"
      }
    },
    {
      "cell_type": "code",
      "source": [
        "# Продажи продуктов в среднем по годам\n",
        "\n",
        "cursor = conn.execute(\n",
        "    '''\n",
        "    SELECT product, strftime('%Y', DATETIME(date)) AS year, ROUND(AVG(sales),2) AS avg_sales\n",
        "    FROM sales\n",
        "    GROUP BY product, year\n",
        "    ORDER BY product, year\n",
        "\n",
        " ''')\n",
        "\n",
        "for row in cursor:\n",
        "  print(row)"
      ],
      "metadata": {
        "colab": {
          "base_uri": "https://localhost:8080/"
        },
        "id": "pUvsGFcXV0Kl",
        "outputId": "50dfc90c-5f31-420e-9343-d04bff104753"
      },
      "execution_count": 53,
      "outputs": [
        {
          "output_type": "stream",
          "name": "stdout",
          "text": [
            "('a', '2022', 4765.0)\n",
            "('a', '2023', 4648.56)\n",
            "('b', '2022', 7063.25)\n",
            "('b', '2023', 4951.33)\n",
            "('c', '2022', 5592.55)\n",
            "('c', '2023', 5879.89)\n"
          ]
        }
      ]
    },
    {
      "cell_type": "code",
      "source": [
        "# Поиск месяца, в котором сумма продаж была максимальной в разбивке по каждому продукту и году\n",
        "\n",
        "cursor = conn.execute(\n",
        "    '''\n",
        "    SELECT\n",
        "          product,\n",
        "          strftime('%Y', DATETIME(date)) AS year,\n",
        "          strftime('%m', DATETIME(date)) AS month,\n",
        "          MAX(sales) AS max_sales\n",
        "    FROM sales\n",
        "    GROUP BY product, year\n",
        "    ORDER BY product, year, month\n",
        "\n",
        " ''')\n",
        "\n",
        "for row in cursor:\n",
        "  print(row)"
      ],
      "metadata": {
        "colab": {
          "base_uri": "https://localhost:8080/"
        },
        "id": "GJSYGD4JWq1x",
        "outputId": "fd864fb9-7ed4-4b17-eda4-a15995820b32"
      },
      "execution_count": 59,
      "outputs": [
        {
          "output_type": "stream",
          "name": "stdout",
          "text": [
            "('a', '2022', '10', 9399)\n",
            "('a', '2023', '01', 9460)\n",
            "('b', '2022', '07', 9920)\n",
            "('b', '2023', '07', 9436)\n",
            "('c', '2022', '01', 9879)\n",
            "('c', '2023', '02', 9410)\n"
          ]
        }
      ]
    },
    {
      "cell_type": "code",
      "source": [
        "# Прирост продаж по каждому продукту\n",
        "# Поиск максимального и минимального прироста продаж в разрезе по каждому продукту\n",
        "\n",
        "\n",
        "cursor = conn.execute(\n",
        "    '''\n",
        "    WITH lagged_table AS (\n",
        "    SELECT\n",
        "          product, sales, date,\n",
        "          LAG(sales) OVER(PARTITION BY product ORDER BY date) AS lag_sales\n",
        "    FROM sales\n",
        "    )\n",
        "\n",
        "    SELECT\n",
        "          product,\n",
        "          MIN(COALESCE(sales - lag_sales, 0)),\n",
        "          MAX(COALESCE(sales - lag_sales, 0))\n",
        "    FROM lagged_table\n",
        "    GROUP BY product\n",
        "    ORDER BY product, date\n",
        "\n",
        " ''')\n",
        "\n",
        "\n",
        "for row in cursor:\n",
        "  print(row)"
      ],
      "metadata": {
        "colab": {
          "base_uri": "https://localhost:8080/"
        },
        "id": "6kliq_ulXSmu",
        "outputId": "dce90e53-734b-46c4-d357-60c57106d815"
      },
      "execution_count": 46,
      "outputs": [
        {
          "output_type": "stream",
          "name": "stdout",
          "text": [
            "('a', -9460, 7605)\n",
            "('b', -7895, 8229)\n",
            "('c', -8312, 6994)\n"
          ]
        }
      ]
    },
    {
      "cell_type": "code",
      "source": [
        "# Соединение таблиц\n",
        "# Поскольку таблица у меня одна, то создам ещё одну таблицу.\n",
        "\n",
        "conn.execute(''' CREATE TABLE product_description(\n",
        "                  product NVARCHAR,\n",
        "                  description NVARCHAR); ''')\n",
        "conn.commit()\n",
        "\n",
        "print('The table product_description is created.')"
      ],
      "metadata": {
        "colab": {
          "base_uri": "https://localhost:8080/"
        },
        "id": "qHqIQFAsx72B",
        "outputId": "80dc23d2-c063-4ac3-f6d2-d40c9d497f32"
      },
      "execution_count": 60,
      "outputs": [
        {
          "output_type": "stream",
          "name": "stdout",
          "text": [
            "The table product_description is created.\n"
          ]
        }
      ]
    },
    {
      "cell_type": "code",
      "source": [
        "conn.execute('''\n",
        "INSERT INTO\n",
        "    product_description (product, description)\n",
        "VALUES\n",
        "    ('a','The first product'),\n",
        "    ('b','The second product'),\n",
        "    ('c','The third product');\n",
        "''')\n",
        "\n",
        "conn.commit()"
      ],
      "metadata": {
        "id": "JFXUmmlayonn"
      },
      "execution_count": 66,
      "outputs": []
    },
    {
      "cell_type": "code",
      "source": [
        "# Объединение таблицы с суммарными продажами за всё время с таблицей, содержащей описание продуктов\n",
        "\n",
        "cursor = conn.execute(\n",
        "    '''\n",
        "    SELECT\n",
        "          product,\n",
        "          SUM(sales) as sum_sales,\n",
        "          description\n",
        "    FROM sales\n",
        "    LEFT JOIN product_description\n",
        "    USING (product)\n",
        "    GROUP BY product\n",
        "    ORDER BY product\n",
        "\n",
        " ''')\n",
        "\n",
        "\n",
        "for row in cursor:\n",
        "  print(row)"
      ],
      "metadata": {
        "colab": {
          "base_uri": "https://localhost:8080/"
        },
        "id": "2cVjvC6xy7y7",
        "outputId": "11a4524b-e566-440f-c6ef-54b45ec6a8e9"
      },
      "execution_count": 71,
      "outputs": [
        {
          "output_type": "stream",
          "name": "stdout",
          "text": [
            "('a', 99017, 'The first product')\n",
            "('b', 129321, 'The second product')\n",
            "('c', 114437, 'The third product')\n"
          ]
        }
      ]
    },
    {
      "cell_type": "markdown",
      "source": [
        "# Основной запрос"
      ],
      "metadata": {
        "id": "kndkhU6UU__Z"
      }
    },
    {
      "cell_type": "markdown",
      "source": [
        "Необходимо написать SQL-запрос, возращающий таблицу sales с добавленными столбцами:\n",
        "- sales YTD - нарастающий итог продаж соответствующего product с начала года;\n",
        "- sales MAT - суммарные продажи соответствующего product за последние 12 месяцев.\n"
      ],
      "metadata": {
        "id": "8SslFZ5vKQmh"
      }
    },
    {
      "cell_type": "code",
      "source": [
        "cursor = conn.execute(\n",
        "    '''\n",
        "    SELECT\n",
        "        date, product, sales,\n",
        "        SUM(sales) OVER ( PARTITION BY strftime('%Y', DATETIME(date)), product  ORDER BY date) AS sales_ytd,\n",
        "        SUM(sales) OVER ( PARTITION BY product ROWS BETWEEN 11 PRECEDING and CURRENT ROW) AS sales_mat\n",
        "    FROM\n",
        "        sales\n",
        "    ORDER BY product, date\n",
        "    ''')\n",
        "\n",
        "\n",
        "for row in cursor:\n",
        "  print(row)"
      ],
      "metadata": {
        "colab": {
          "base_uri": "https://localhost:8080/"
        },
        "id": "AouKTpbZHyS-",
        "outputId": "b03977ed-eeef-4673-f1a0-d43638de7619"
      },
      "execution_count": null,
      "outputs": [
        {
          "output_type": "stream",
          "name": "stdout",
          "text": [
            "('2022-01-01', 'a', 1979, 1979, 1979)\n",
            "('2022-02-01', 'a', 6416, 8395, 8395)\n",
            "('2022-03-01', 'a', 7332, 15727, 15727)\n",
            "('2022-04-01', 'a', 3446, 19173, 19173)\n",
            "('2022-05-01', 'a', 5276, 24449, 24449)\n",
            "('2022-06-01', 'a', 5815, 30264, 30264)\n",
            "('2022-07-01', 'a', 1070, 31334, 31334)\n",
            "('2022-08-01', 'a', 8589, 39923, 39923)\n",
            "('2022-09-01', 'a', 1794, 41717, 41717)\n",
            "('2022-10-01', 'a', 9399, 51116, 51116)\n",
            "('2022-11-01', 'a', 3988, 55104, 55104)\n",
            "('2022-12-01', 'a', 2076, 57180, 57180)\n",
            "('2023-01-01', 'a', 9460, 9460, 64661)\n",
            "('2023-02-01', 'a', 0, 9460, 58245)\n",
            "('2023-03-01', 'a', 4915, 14375, 55828)\n",
            "('2023-04-01', 'a', 8284, 22659, 60666)\n",
            "('2023-05-01', 'a', 5621, 28280, 61011)\n",
            "('2023-06-01', 'a', 2764, 31044, 57960)\n",
            "('2023-07-01', 'a', 3158, 34202, 60048)\n",
            "('2023-08-01', 'a', 2453, 36655, 53912)\n",
            "('2023-09-01', 'a', 5182, 41837, 57300)\n",
            "('2022-01-01', 'b', 4195, 4195, 4195)\n",
            "('2022-02-01', 'b', 9905, 14100, 14100)\n",
            "('2022-03-01', 'b', 9628, 23728, 23728)\n",
            "('2022-04-01', 'b', 4253, 27981, 27981)\n",
            "('2022-05-01', 'b', 1376, 29357, 29357)\n",
            "('2022-06-01', 'b', 9605, 38962, 38962)\n",
            "('2022-07-01', 'b', 9920, 48882, 48882)\n",
            "('2022-08-01', 'b', 9646, 58528, 58528)\n",
            "('2022-09-01', 'b', 9730, 68258, 68258)\n",
            "('2022-10-01', 'b', 2219, 70477, 70477)\n",
            "('2022-11-01', 'b', 4498, 74975, 74975)\n",
            "('2022-12-01', 'b', 9784, 84759, 84759)\n",
            "('2023-01-01', 'b', 1889, 1889, 82453)\n",
            "('2023-02-01', 'b', 8906, 10795, 81454)\n",
            "('2023-03-01', 'b', 4355, 15150, 76181)\n",
            "('2023-04-01', 'b', 4695, 19845, 76623)\n",
            "('2023-05-01', 'b', 2488, 22333, 77735)\n",
            "('2023-06-01', 'b', 1724, 24057, 69854)\n",
            "('2023-07-01', 'b', 9436, 33493, 69370)\n",
            "('2023-08-01', 'b', 7706, 41199, 67430)\n",
            "('2023-09-01', 'b', 3363, 44562, 61063)\n",
            "('2022-01-01', 'c', 9879, 9879, 9879)\n",
            "('2022-02-01', 'c', 1567, 11446, 11446)\n",
            "('2022-03-01', 'c', 1783, 13229, 13229)\n",
            "('2022-04-01', 'c', 8777, 22006, 22006)\n",
            "('2022-05-01', 'c', 6213, 28219, 28219)\n",
            "('2022-07-01', 'c', 1622, 29841, 29841)\n",
            "('2022-08-01', 'c', 3691, 33532, 33532)\n",
            "('2022-09-01', 'c', 7216, 40748, 40748)\n",
            "('2022-10-01', 'c', 9077, 49825, 49825)\n",
            "('2022-11-01', 'c', 3979, 53804, 53804)\n",
            "('2022-12-01', 'c', 7714, 61518, 61518)\n",
            "('2023-01-01', 'c', 5837, 5837, 67355)\n",
            "('2023-02-01', 'c', 9410, 15247, 66886)\n",
            "('2023-03-01', 'c', 2200, 17447, 67519)\n",
            "('2023-04-01', 'c', 7888, 25335, 73624)\n",
            "('2023-05-01', 'c', 7998, 33333, 72845)\n",
            "('2023-06-01', 'c', 8165, 41498, 74797)\n",
            "('2023-07-01', 'c', 2699, 44197, 75874)\n",
            "('2023-08-01', 'c', 7454, 51651, 79637)\n",
            "('2023-09-01', 'c', 1268, 52919, 73689)\n"
          ]
        }
      ]
    }
  ]
}