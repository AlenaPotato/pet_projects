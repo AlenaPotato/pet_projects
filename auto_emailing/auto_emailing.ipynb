{
  "nbformat": 4,
  "nbformat_minor": 0,
  "metadata": {
    "colab": {
      "provenance": [],
      "toc_visible": true,
      "authorship_tag": "ABX9TyOjnTQd9nQMl/nzO8E2hbi0",
      "include_colab_link": true
    },
    "kernelspec": {
      "name": "python3",
      "display_name": "Python 3"
    },
    "language_info": {
      "name": "python"
    }
  },
  "cells": [
    {
      "cell_type": "markdown",
      "metadata": {
        "id": "view-in-github",
        "colab_type": "text"
      },
      "source": [
        "<a href=\"https://colab.research.google.com/github/AlenaPotato/pet_projects/blob/main/auto_emailing/auto_emailing.ipynb\" target=\"_parent\"><img src=\"https://colab.research.google.com/assets/colab-badge.svg\" alt=\"Open In Colab\"/></a>"
      ]
    },
    {
      "cell_type": "markdown",
      "source": [
        "This project was created at the special request of my colleague who has trouble with supporting her hydration level. She asked to constantly remind her to drink water. I didn't have nor time neither patience to remind her of that fact.\n",
        "\n",
        "So I decided to write a little python script for her. The scipt would compile a text message. And for the message to be more effective and catchy I made a decision to include in the message a attention-grabbing picture (a meme preferably).\n",
        "\n",
        "Here I will share how I completed this request.\n",
        "\n",
        "---\n",
        "The script was written on my working computer. So if you deside to reiterate this script, be concern about your working environment limitations."
      ],
      "metadata": {
        "id": "KpkhGc0Isbm-"
      }
    },
    {
      "cell_type": "code",
      "source": [
        "# Importing packages\n",
        "\n",
        "import os\n",
        "import smtplib\n",
        "from email.mime.text import MIMEText\n",
        "from email.mime.multipart import MIMEMultipart\n",
        "import random\n",
        "import base64\n",
        "import requests"
      ],
      "metadata": {
        "id": "Xlcfn3rGir3g"
      },
      "execution_count": 8,
      "outputs": []
    },
    {
      "cell_type": "code",
      "source": [
        "# On my working computer I have preinstalled system-dependent functionality (as username and password).\n",
        "# I will call those variables with the following commands.\n",
        "\n",
        "my_login = os.getenv('MAIL_USERNAME')\n",
        "my_password = os.getenv('MAIL_PASSWORD')\n",
        "\n",
        "# For confidentiality I change colleague's email\n",
        "email_to = ['your_colleague@your_company.com']\n",
        "\n",
        "# Getting the meme from the Internet\n",
        "img = 'https://img2.joyreactor.cc/pics/post/%D0%9F%D1%80%D0%B8%D0%BA%D0%BE%D0%BB%D1%8B-%D0%B4%D0%BB%D1%8F-%D0%B4%D0%B0%D1%83%D0%BD%D0%BE%D0%B2-%D1%80%D0%B0%D0%B7%D0%BD%D0%BE%D0%B5-8010957.jpeg'\n",
        "\n",
        "data_uri = base64.b64encode(requests.get(img).content)\n"
      ],
      "metadata": {
        "id": "uIIailJmsctz"
      },
      "execution_count": 10,
      "outputs": []
    },
    {
      "cell_type": "code",
      "source": [
        "# Forming the main text of the message\n",
        "# I wanted to include some diversity, so I created several variants for message text and heading\n",
        "\n",
        "# Heading of the letter\n",
        "subject_of_letter = ['Надо попить водички...',\n",
        "                     'Не забудь попить воды!',\n",
        "                     'Кажется, кто-то давно не пил воду.',\n",
        "                     'Обезвоживание - это плохо!',\n",
        "                     'Попей воды!']\n",
        "\n",
        "# Greetings\n",
        "say_hi = ['Доброе утро! Начинаем день правильно.',\n",
        "          'Добрейший денёчек.',\n",
        "          'Вот и рабочий день к концу подходит.']\n",
        "\n",
        "# Main body of the message\n",
        "list_of_messages = ['mes_1', 'mes_2', 'mes_3', 'mes_4', 'mes_5', 'mes_6', 'mes_7']\n",
        "\n",
        "# Message and link on the resource\n",
        "text = {'mes_1':['Полезней для организма пить сырую воду, так как она содержит важные микроэлементы: магний, кальций, натрий и др. \\\n",
        "                   После кипячения эти компоненты оседают на нагревательных элементах, и вода теряет полезные свойства.',\n",
        "                  \"https://stolichki.ru/stati/kakuyu-vodu-luchshe-pit-kipyachenuyu-ili-syiruyu?utm_referrer=https%3a%2f%2fyandex.ru%2f\"],\n",
        "\n",
        "            'mes_2':['Мужчинам необходимо выпивать от 2,5 до 3,7 л в день, женщинам — от 2 до 2,7 л.',\n",
        "                   \"https://style.rbc.ru/beauty/5b19296d9a79474e2002814b\"],\n",
        "\n",
        "            'mes_3':['В идеале нужно выпивать первый стакан воды натощак сразу после пробуждения, например, в 8 часов утра. \\\n",
        "                   Второй прием через 2-3 часа — в 10-11 ч. Третий прием — в 13 ч; желательно, чтобы это было за 30-40 минут до обеда.',\n",
        "                   \"https://style.rbc.ru/beauty/5b19296d9a79474e2002814b\"],\n",
        "\n",
        "            'mes_4':['Многие считают, что пить воду нужно только при возникновении жажды, но это не совсем верно. Жажда, как правило, — \\\n",
        "                   сигнал обезвоживания.',\n",
        "                   \"https://style.rbc.ru/beauty/5b19296d9a79474e2002814b\"],\n",
        "\n",
        "            'mes_5':['Газированную воду не рекомендуется пить регулярно и в больших количествах, так как это может негативно сказаться на \\\n",
        "                   состоянии слизистой пищевода и желудка. Если вам не нравится вкус обычной воды, можно добавить сок лайма, лимона, свежий огурец, \\\n",
        "                   нарезанный дольками',\n",
        "                   \"https://style.rbc.ru/beauty/5b19296d9a79474e2002814b\"],\n",
        "\n",
        "            'mes_6':['Скорость всасывания жидкости ограничена: на голодный желудок — 300 мл за 15 минут, на полный — 800 мл в час.'\n",
        "                   \"https://366.ru/articles/skolko-nuzhno-pit-vody-v-den/?utm_source=yandex.ru&utm_medium=organic&utm_campaign=yandex.ru&utm_referrer=yandex.ru\"],\n",
        "\n",
        "            'mes_7':['Признаки обезвоживания:\\n затрудненное глотание, в том числе из-за недостатка слюны;\\n снижение температуры тела, \\\n",
        "                   сопровождающееся холодным потом; \\n пересыхание слизистых; \\n тахикардия; \\n уменьшение количества мочи; \\n очевидная потеря массы тела.',\n",
        "                   \"https://366.ru/articles/skolko-nuzhno-pit-vody-v-den/?utm_source=yandex.ru&utm_medium=organic&utm_campaign=yandex.ru&utm_referrer=yandex.ru\"]\n",
        "}\n",
        "\n",
        "texts = [['Полезней для организма пить сырую воду, так как она содержит важные микроэлементы: магний, кальций, натрий и др. \\\n",
        "           После кипячения эти компоненты оседают на нагревательных элементах, и вода теряет полезные свойства.',\n",
        "           \"https://stolichki.ru/stati/kakuyu-vodu-luchshe-pit-kipyachenuyu-ili-syiruyu?utm_referrer=https%3a%2f%2fyandex.ru%2f\"],\n",
        "\n",
        "        ['Мужчинам необходимо выпивать от 2,5 до 3,7 л в день, женщинам — от 2 до 2,7 л.',\n",
        "          \"https://style.rbc.ru/beauty/5b19296d9a79474e2002814b\"],\n",
        "\n",
        "        ['В идеале нужно выпивать первый стакан воды натощак сразу после пробуждения, например, в 8 часов утра. \\\n",
        "          Второй прием через 2-3 часа — в 10-11 ч. Третий прием — в 13 ч; желательно, чтобы это было за 30-40 минут до обеда.',\n",
        "          \"https://style.rbc.ru/beauty/5b19296d9a79474e2002814b\"],\n",
        "\n",
        "        ['Многие считают, что пить воду нужно только при возникновении жажды, но это не совсем верно. Жажда, как правило, — \\\n",
        "          сигнал обезвоживания.',\n",
        "          \"https://style.rbc.ru/beauty/5b19296d9a79474e2002814b\"],\n",
        "\n",
        "        ['Газированную воду не рекомендуется пить регулярно и в больших количествах, так как это может негативно сказаться на \\\n",
        "          состоянии слизистой пищевода и желудка. Если вам не нравится вкус обычной воды, можно добавить сок лайма, лимона, свежий огурец, \\\n",
        "          нарезанный дольками',\n",
        "          \"https://style.rbc.ru/beauty/5b19296d9a79474e2002814b\"],\n",
        "\n",
        "        ['Скорость всасывания жидкости ограничена: на голодный желудок — 300 мл за 15 минут, на полный — 800 мл в час.'\n",
        "          \"https://366.ru/articles/skolko-nuzhno-pit-vody-v-den/?utm_source=yandex.ru&utm_medium=organic&utm_campaign=yandex.ru&utm_referrer=yandex.ru\"],\n",
        "\n",
        "        ['Признаки обезвоживания:\\n затрудненное глотание, в том числе из-за недостатка слюны;\\n снижение температуры тела, \\\n",
        "          сопровождающееся холодным потом; \\n пересыхание слизистых; \\n тахикардия; \\n уменьшение количества мочи; \\n очевидная потеря массы тела.',\n",
        "          \"https://366.ru/articles/skolko-nuzhno-pit-vody-v-den/?utm_source=yandex.ru&utm_medium=organic&utm_campaign=yandex.ru&utm_referrer=yandex.ru\"]]\n"
      ],
      "metadata": {
        "id": "51-DHdTAjnSO"
      },
      "execution_count": 11,
      "outputs": []
    },
    {
      "cell_type": "code",
      "source": [
        "# Randomizing the message content\n",
        "information = {}\n",
        "\n",
        "for key, text in zip(list_of_messages, texts):\n",
        "    information[key] = text\n",
        "\n",
        "content = information[random.choice(list_of_messages)]"
      ],
      "metadata": {
        "id": "NdC2wSq0k4Ll"
      },
      "execution_count": 12,
      "outputs": []
    },
    {
      "cell_type": "code",
      "source": [
        "# Message formation\n",
        "message = '<marquee behavior=\"alternate\" direction=\"left\" bgcolor=\"#ffcc00\">' + \\\n",
        "          '<html lang=\"rus\">' + \\\n",
        "              '<head> </head>' + \\\n",
        "                  '<body>' + \\\n",
        "                    \"<marquee style='width: 20%; color: #5da130;'><b>Надо попить воды</b></marquee>\" + \\\n",
        "                    '<p>' + say_hi[1] + '\\n\\n\\n\\n<br>' + \\\n",
        "                       '<h4 style=\"text-align:center; white-space:pre-wrap;\"> А ВОТ НЕМНОЖКО МОТИВАЦИИ ПИТЬ БОЛЬШЕ ВОДЫ: </h4> \\n\\n' + \\\n",
        "                    '</p>' + \\\n",
        "                    '<p style=\"text-align:center;\">' + \\\n",
        "                       content[0] + '<p><img src=\"data:image/png;base64,{0}\"></p>'.format(data_uri) +\\\n",
        "                    '<p>' + \\\n",
        "                       '<a href=' + content[1] + '>Ссылочка</a>, если захочется почитать подробнее.\\n\\n\\n\\n ♥ ' + \\\n",
        "                    '</p>' + \\\n",
        "                    '<p>' + \\\n",
        "                       'Для персональной рассылки сформулируйте запрос и занесите сгущёнку в отдел дата аналитики.' + \\\n",
        "                    '</p></body></html>'"
      ],
      "metadata": {
        "id": "MHO7_OZak_OD"
      },
      "execution_count": null,
      "outputs": []
    },
    {
      "cell_type": "code",
      "source": [
        "# Defying the function for sending reminders\n",
        "def Send_Email(email_to, message):\n",
        "  msg = MIMEMultipart()\n",
        "  msg['Subject'] = random.choice(subject_of_letter)\n",
        "  msg['From'] = 'from_me@your_company.com'\n",
        "  msg['To'] = \", \".join(email_to)\n",
        "  msg.attach(MIMEText(message + '\\n\\n','html'))\n",
        "\n",
        "  # Select appropriate server\n",
        "  server = smtplib.SMTP('server.local', port=465)\n",
        "  server.ehlo()\n",
        "  server.starttls()\n",
        "  server.ehlo()\n",
        "  server.login(my_login, my_password)\n",
        "  server.sendmail(msg['From'], email_to, msg.as_string())\n",
        "\n"
      ],
      "metadata": {
        "id": "4sFBJKXCT2BP"
      },
      "execution_count": null,
      "outputs": []
    },
    {
      "cell_type": "code",
      "source": [
        "# Finally sending the email\n",
        "Send_Email(email_to, message)"
      ],
      "metadata": {
        "id": "W7BrKAmCT5DE"
      },
      "execution_count": null,
      "outputs": []
    },
    {
      "cell_type": "markdown",
      "source": [
        "For the reminder to be periodical the python script should be put into Task Scheduler. And we're done)"
      ],
      "metadata": {
        "id": "xmwh2CBvwBtx"
      }
    }
  ]
}