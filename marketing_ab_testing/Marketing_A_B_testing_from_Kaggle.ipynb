{
  "nbformat": 4,
  "nbformat_minor": 0,
  "metadata": {
    "colab": {
      "provenance": [],
      "authorship_tag": "ABX9TyO/fa9UA2j3/bqE0lNN1ilk",
      "include_colab_link": true
    },
    "kernelspec": {
      "name": "python3",
      "display_name": "Python 3"
    },
    "language_info": {
      "name": "python"
    }
  },
  "cells": [
    {
      "cell_type": "markdown",
      "metadata": {
        "id": "view-in-github",
        "colab_type": "text"
      },
      "source": [
        "<a href=\"https://colab.research.google.com/github/AlenaPotato/pet_projects/blob/main/marketing_ab_testing/Marketing_A_B_testing_from_Kaggle.ipynb\" target=\"_parent\"><img src=\"https://colab.research.google.com/assets/colab-badge.svg\" alt=\"Open In Colab\"/></a>"
      ]
    },
    {
      "cell_type": "markdown",
      "source": [
        "The current dataset was taken from <a href='https://www.kaggle.com/code/hongeunlee/marketing-a-b-testing'>Marketing A/B testing</a> from Kaggle platform.\n"
      ],
      "metadata": {
        "id": "TAH0C2dPcpY9"
      }
    },
    {
      "cell_type": "markdown",
      "source": [
        "# Importing libraries and the file"
      ],
      "metadata": {
        "id": "QR5MS12B47pM"
      }
    },
    {
      "cell_type": "code",
      "source": [
        "import pandas as pd\n",
        "import seaborn as sns\n",
        "import matplotlib.pyplot as plt\n",
        "import numpy as np\n",
        "\n",
        "sns.set_palette(\"pastel\")"
      ],
      "metadata": {
        "id": "SA8dGSE9-SyV"
      },
      "execution_count": null,
      "outputs": []
    },
    {
      "cell_type": "code",
      "source": [
        "df = pd.read_csv('/content/marketing_AB.csv', index_col=0)\n",
        "display(df.head())\n",
        "\n",
        "print(f'DataFrame contains {df.shape[0]} rows and {df.shape[1]} columns')"
      ],
      "metadata": {
        "colab": {
          "base_uri": "https://localhost:8080/",
          "height": 224
        },
        "id": "23QeYjY137Pc",
        "outputId": "65f924f8-7a0a-4e4b-8062-f34fa34e37a7"
      },
      "execution_count": null,
      "outputs": [
        {
          "output_type": "display_data",
          "data": {
            "text/plain": [
              "   user id test group  converted  total ads most ads day  most ads hour\n",
              "0  1069124         ad      False        130       Monday             20\n",
              "1  1119715         ad      False         93      Tuesday             22\n",
              "2  1144181         ad      False         21      Tuesday             18\n",
              "3  1435133         ad      False        355      Tuesday             10\n",
              "4  1015700         ad      False        276       Friday             14"
            ],
            "text/html": [
              "\n",
              "  <div id=\"df-591bfd1f-3447-47c0-b7aa-e75928618905\">\n",
              "    <div class=\"colab-df-container\">\n",
              "      <div>\n",
              "<style scoped>\n",
              "    .dataframe tbody tr th:only-of-type {\n",
              "        vertical-align: middle;\n",
              "    }\n",
              "\n",
              "    .dataframe tbody tr th {\n",
              "        vertical-align: top;\n",
              "    }\n",
              "\n",
              "    .dataframe thead th {\n",
              "        text-align: right;\n",
              "    }\n",
              "</style>\n",
              "<table border=\"1\" class=\"dataframe\">\n",
              "  <thead>\n",
              "    <tr style=\"text-align: right;\">\n",
              "      <th></th>\n",
              "      <th>user id</th>\n",
              "      <th>test group</th>\n",
              "      <th>converted</th>\n",
              "      <th>total ads</th>\n",
              "      <th>most ads day</th>\n",
              "      <th>most ads hour</th>\n",
              "    </tr>\n",
              "  </thead>\n",
              "  <tbody>\n",
              "    <tr>\n",
              "      <th>0</th>\n",
              "      <td>1069124</td>\n",
              "      <td>ad</td>\n",
              "      <td>False</td>\n",
              "      <td>130</td>\n",
              "      <td>Monday</td>\n",
              "      <td>20</td>\n",
              "    </tr>\n",
              "    <tr>\n",
              "      <th>1</th>\n",
              "      <td>1119715</td>\n",
              "      <td>ad</td>\n",
              "      <td>False</td>\n",
              "      <td>93</td>\n",
              "      <td>Tuesday</td>\n",
              "      <td>22</td>\n",
              "    </tr>\n",
              "    <tr>\n",
              "      <th>2</th>\n",
              "      <td>1144181</td>\n",
              "      <td>ad</td>\n",
              "      <td>False</td>\n",
              "      <td>21</td>\n",
              "      <td>Tuesday</td>\n",
              "      <td>18</td>\n",
              "    </tr>\n",
              "    <tr>\n",
              "      <th>3</th>\n",
              "      <td>1435133</td>\n",
              "      <td>ad</td>\n",
              "      <td>False</td>\n",
              "      <td>355</td>\n",
              "      <td>Tuesday</td>\n",
              "      <td>10</td>\n",
              "    </tr>\n",
              "    <tr>\n",
              "      <th>4</th>\n",
              "      <td>1015700</td>\n",
              "      <td>ad</td>\n",
              "      <td>False</td>\n",
              "      <td>276</td>\n",
              "      <td>Friday</td>\n",
              "      <td>14</td>\n",
              "    </tr>\n",
              "  </tbody>\n",
              "</table>\n",
              "</div>\n",
              "      <button class=\"colab-df-convert\" onclick=\"convertToInteractive('df-591bfd1f-3447-47c0-b7aa-e75928618905')\"\n",
              "              title=\"Convert this dataframe to an interactive table.\"\n",
              "              style=\"display:none;\">\n",
              "        \n",
              "  <svg xmlns=\"http://www.w3.org/2000/svg\" height=\"24px\"viewBox=\"0 0 24 24\"\n",
              "       width=\"24px\">\n",
              "    <path d=\"M0 0h24v24H0V0z\" fill=\"none\"/>\n",
              "    <path d=\"M18.56 5.44l.94 2.06.94-2.06 2.06-.94-2.06-.94-.94-2.06-.94 2.06-2.06.94zm-11 1L8.5 8.5l.94-2.06 2.06-.94-2.06-.94L8.5 2.5l-.94 2.06-2.06.94zm10 10l.94 2.06.94-2.06 2.06-.94-2.06-.94-.94-2.06-.94 2.06-2.06.94z\"/><path d=\"M17.41 7.96l-1.37-1.37c-.4-.4-.92-.59-1.43-.59-.52 0-1.04.2-1.43.59L10.3 9.45l-7.72 7.72c-.78.78-.78 2.05 0 2.83L4 21.41c.39.39.9.59 1.41.59.51 0 1.02-.2 1.41-.59l7.78-7.78 2.81-2.81c.8-.78.8-2.07 0-2.86zM5.41 20L4 18.59l7.72-7.72 1.47 1.35L5.41 20z\"/>\n",
              "  </svg>\n",
              "      </button>\n",
              "      \n",
              "  <style>\n",
              "    .colab-df-container {\n",
              "      display:flex;\n",
              "      flex-wrap:wrap;\n",
              "      gap: 12px;\n",
              "    }\n",
              "\n",
              "    .colab-df-convert {\n",
              "      background-color: #E8F0FE;\n",
              "      border: none;\n",
              "      border-radius: 50%;\n",
              "      cursor: pointer;\n",
              "      display: none;\n",
              "      fill: #1967D2;\n",
              "      height: 32px;\n",
              "      padding: 0 0 0 0;\n",
              "      width: 32px;\n",
              "    }\n",
              "\n",
              "    .colab-df-convert:hover {\n",
              "      background-color: #E2EBFA;\n",
              "      box-shadow: 0px 1px 2px rgba(60, 64, 67, 0.3), 0px 1px 3px 1px rgba(60, 64, 67, 0.15);\n",
              "      fill: #174EA6;\n",
              "    }\n",
              "\n",
              "    [theme=dark] .colab-df-convert {\n",
              "      background-color: #3B4455;\n",
              "      fill: #D2E3FC;\n",
              "    }\n",
              "\n",
              "    [theme=dark] .colab-df-convert:hover {\n",
              "      background-color: #434B5C;\n",
              "      box-shadow: 0px 1px 3px 1px rgba(0, 0, 0, 0.15);\n",
              "      filter: drop-shadow(0px 1px 2px rgba(0, 0, 0, 0.3));\n",
              "      fill: #FFFFFF;\n",
              "    }\n",
              "  </style>\n",
              "\n",
              "      <script>\n",
              "        const buttonEl =\n",
              "          document.querySelector('#df-591bfd1f-3447-47c0-b7aa-e75928618905 button.colab-df-convert');\n",
              "        buttonEl.style.display =\n",
              "          google.colab.kernel.accessAllowed ? 'block' : 'none';\n",
              "\n",
              "        async function convertToInteractive(key) {\n",
              "          const element = document.querySelector('#df-591bfd1f-3447-47c0-b7aa-e75928618905');\n",
              "          const dataTable =\n",
              "            await google.colab.kernel.invokeFunction('convertToInteractive',\n",
              "                                                     [key], {});\n",
              "          if (!dataTable) return;\n",
              "\n",
              "          const docLinkHtml = 'Like what you see? Visit the ' +\n",
              "            '<a target=\"_blank\" href=https://colab.research.google.com/notebooks/data_table.ipynb>data table notebook</a>'\n",
              "            + ' to learn more about interactive tables.';\n",
              "          element.innerHTML = '';\n",
              "          dataTable['output_type'] = 'display_data';\n",
              "          await google.colab.output.renderOutput(dataTable, element);\n",
              "          const docLink = document.createElement('div');\n",
              "          docLink.innerHTML = docLinkHtml;\n",
              "          element.appendChild(docLink);\n",
              "        }\n",
              "      </script>\n",
              "    </div>\n",
              "  </div>\n",
              "  "
            ]
          },
          "metadata": {}
        },
        {
          "output_type": "stream",
          "name": "stdout",
          "text": [
            "DataFrame contains 588101 rows and 6 columns\n"
          ]
        }
      ]
    },
    {
      "cell_type": "code",
      "source": [
        "print('There are missing values.' if df.isna().sum().all()>0 else 'There are no missing values.' )\n",
        "print('There are duplicated values.' if df[df.duplicated()].sum().all()>0 else 'There are no duplicated values.' )"
      ],
      "metadata": {
        "colab": {
          "base_uri": "https://localhost:8080/"
        },
        "id": "6p1GMeGZ-Zp0",
        "outputId": "813b2579-6b1c-4105-8928-614a64da5af9"
      },
      "execution_count": null,
      "outputs": [
        {
          "output_type": "stream",
          "name": "stdout",
          "text": [
            "There are no missing values.\n",
            "There are no duplicated values.\n"
          ]
        }
      ]
    },
    {
      "cell_type": "code",
      "source": [
        "df['converted'] = df['converted'].astype('int')\n",
        "display(np.round(df.describe(),2))\n",
        "display(df.describe(include=[object]))"
      ],
      "metadata": {
        "colab": {
          "base_uri": "https://localhost:8080/",
          "height": 458
        },
        "id": "VHpAX8xmFSA-",
        "outputId": "dcce8ea2-1cb5-458c-ba57-ec7b342f08c0"
      },
      "execution_count": null,
      "outputs": [
        {
          "output_type": "display_data",
          "data": {
            "text/plain": [
              "          user id  converted  total ads  most ads hour\n",
              "count   588101.00  588101.00  588101.00      588101.00\n",
              "mean   1310692.22       0.03      24.82          14.47\n",
              "std     202225.98       0.16      43.72           4.83\n",
              "min     900000.00       0.00       1.00           0.00\n",
              "25%    1143190.00       0.00       4.00          11.00\n",
              "50%    1313725.00       0.00      13.00          14.00\n",
              "75%    1484088.00       0.00      27.00          18.00\n",
              "max    1654483.00       1.00    2065.00          23.00"
            ],
            "text/html": [
              "\n",
              "  <div id=\"df-f155d34b-fbb3-404c-85d9-b03fa1b05fc1\">\n",
              "    <div class=\"colab-df-container\">\n",
              "      <div>\n",
              "<style scoped>\n",
              "    .dataframe tbody tr th:only-of-type {\n",
              "        vertical-align: middle;\n",
              "    }\n",
              "\n",
              "    .dataframe tbody tr th {\n",
              "        vertical-align: top;\n",
              "    }\n",
              "\n",
              "    .dataframe thead th {\n",
              "        text-align: right;\n",
              "    }\n",
              "</style>\n",
              "<table border=\"1\" class=\"dataframe\">\n",
              "  <thead>\n",
              "    <tr style=\"text-align: right;\">\n",
              "      <th></th>\n",
              "      <th>user id</th>\n",
              "      <th>converted</th>\n",
              "      <th>total ads</th>\n",
              "      <th>most ads hour</th>\n",
              "    </tr>\n",
              "  </thead>\n",
              "  <tbody>\n",
              "    <tr>\n",
              "      <th>count</th>\n",
              "      <td>588101.00</td>\n",
              "      <td>588101.00</td>\n",
              "      <td>588101.00</td>\n",
              "      <td>588101.00</td>\n",
              "    </tr>\n",
              "    <tr>\n",
              "      <th>mean</th>\n",
              "      <td>1310692.22</td>\n",
              "      <td>0.03</td>\n",
              "      <td>24.82</td>\n",
              "      <td>14.47</td>\n",
              "    </tr>\n",
              "    <tr>\n",
              "      <th>std</th>\n",
              "      <td>202225.98</td>\n",
              "      <td>0.16</td>\n",
              "      <td>43.72</td>\n",
              "      <td>4.83</td>\n",
              "    </tr>\n",
              "    <tr>\n",
              "      <th>min</th>\n",
              "      <td>900000.00</td>\n",
              "      <td>0.00</td>\n",
              "      <td>1.00</td>\n",
              "      <td>0.00</td>\n",
              "    </tr>\n",
              "    <tr>\n",
              "      <th>25%</th>\n",
              "      <td>1143190.00</td>\n",
              "      <td>0.00</td>\n",
              "      <td>4.00</td>\n",
              "      <td>11.00</td>\n",
              "    </tr>\n",
              "    <tr>\n",
              "      <th>50%</th>\n",
              "      <td>1313725.00</td>\n",
              "      <td>0.00</td>\n",
              "      <td>13.00</td>\n",
              "      <td>14.00</td>\n",
              "    </tr>\n",
              "    <tr>\n",
              "      <th>75%</th>\n",
              "      <td>1484088.00</td>\n",
              "      <td>0.00</td>\n",
              "      <td>27.00</td>\n",
              "      <td>18.00</td>\n",
              "    </tr>\n",
              "    <tr>\n",
              "      <th>max</th>\n",
              "      <td>1654483.00</td>\n",
              "      <td>1.00</td>\n",
              "      <td>2065.00</td>\n",
              "      <td>23.00</td>\n",
              "    </tr>\n",
              "  </tbody>\n",
              "</table>\n",
              "</div>\n",
              "      <button class=\"colab-df-convert\" onclick=\"convertToInteractive('df-f155d34b-fbb3-404c-85d9-b03fa1b05fc1')\"\n",
              "              title=\"Convert this dataframe to an interactive table.\"\n",
              "              style=\"display:none;\">\n",
              "        \n",
              "  <svg xmlns=\"http://www.w3.org/2000/svg\" height=\"24px\"viewBox=\"0 0 24 24\"\n",
              "       width=\"24px\">\n",
              "    <path d=\"M0 0h24v24H0V0z\" fill=\"none\"/>\n",
              "    <path d=\"M18.56 5.44l.94 2.06.94-2.06 2.06-.94-2.06-.94-.94-2.06-.94 2.06-2.06.94zm-11 1L8.5 8.5l.94-2.06 2.06-.94-2.06-.94L8.5 2.5l-.94 2.06-2.06.94zm10 10l.94 2.06.94-2.06 2.06-.94-2.06-.94-.94-2.06-.94 2.06-2.06.94z\"/><path d=\"M17.41 7.96l-1.37-1.37c-.4-.4-.92-.59-1.43-.59-.52 0-1.04.2-1.43.59L10.3 9.45l-7.72 7.72c-.78.78-.78 2.05 0 2.83L4 21.41c.39.39.9.59 1.41.59.51 0 1.02-.2 1.41-.59l7.78-7.78 2.81-2.81c.8-.78.8-2.07 0-2.86zM5.41 20L4 18.59l7.72-7.72 1.47 1.35L5.41 20z\"/>\n",
              "  </svg>\n",
              "      </button>\n",
              "      \n",
              "  <style>\n",
              "    .colab-df-container {\n",
              "      display:flex;\n",
              "      flex-wrap:wrap;\n",
              "      gap: 12px;\n",
              "    }\n",
              "\n",
              "    .colab-df-convert {\n",
              "      background-color: #E8F0FE;\n",
              "      border: none;\n",
              "      border-radius: 50%;\n",
              "      cursor: pointer;\n",
              "      display: none;\n",
              "      fill: #1967D2;\n",
              "      height: 32px;\n",
              "      padding: 0 0 0 0;\n",
              "      width: 32px;\n",
              "    }\n",
              "\n",
              "    .colab-df-convert:hover {\n",
              "      background-color: #E2EBFA;\n",
              "      box-shadow: 0px 1px 2px rgba(60, 64, 67, 0.3), 0px 1px 3px 1px rgba(60, 64, 67, 0.15);\n",
              "      fill: #174EA6;\n",
              "    }\n",
              "\n",
              "    [theme=dark] .colab-df-convert {\n",
              "      background-color: #3B4455;\n",
              "      fill: #D2E3FC;\n",
              "    }\n",
              "\n",
              "    [theme=dark] .colab-df-convert:hover {\n",
              "      background-color: #434B5C;\n",
              "      box-shadow: 0px 1px 3px 1px rgba(0, 0, 0, 0.15);\n",
              "      filter: drop-shadow(0px 1px 2px rgba(0, 0, 0, 0.3));\n",
              "      fill: #FFFFFF;\n",
              "    }\n",
              "  </style>\n",
              "\n",
              "      <script>\n",
              "        const buttonEl =\n",
              "          document.querySelector('#df-f155d34b-fbb3-404c-85d9-b03fa1b05fc1 button.colab-df-convert');\n",
              "        buttonEl.style.display =\n",
              "          google.colab.kernel.accessAllowed ? 'block' : 'none';\n",
              "\n",
              "        async function convertToInteractive(key) {\n",
              "          const element = document.querySelector('#df-f155d34b-fbb3-404c-85d9-b03fa1b05fc1');\n",
              "          const dataTable =\n",
              "            await google.colab.kernel.invokeFunction('convertToInteractive',\n",
              "                                                     [key], {});\n",
              "          if (!dataTable) return;\n",
              "\n",
              "          const docLinkHtml = 'Like what you see? Visit the ' +\n",
              "            '<a target=\"_blank\" href=https://colab.research.google.com/notebooks/data_table.ipynb>data table notebook</a>'\n",
              "            + ' to learn more about interactive tables.';\n",
              "          element.innerHTML = '';\n",
              "          dataTable['output_type'] = 'display_data';\n",
              "          await google.colab.output.renderOutput(dataTable, element);\n",
              "          const docLink = document.createElement('div');\n",
              "          docLink.innerHTML = docLinkHtml;\n",
              "          element.appendChild(docLink);\n",
              "        }\n",
              "      </script>\n",
              "    </div>\n",
              "  </div>\n",
              "  "
            ]
          },
          "metadata": {}
        },
        {
          "output_type": "display_data",
          "data": {
            "text/plain": [
              "       test group most ads day\n",
              "count      588101       588101\n",
              "unique          2            7\n",
              "top            ad       Friday\n",
              "freq       564577        92608"
            ],
            "text/html": [
              "\n",
              "  <div id=\"df-1f79c9a0-179d-47a8-b598-9981b75b6828\">\n",
              "    <div class=\"colab-df-container\">\n",
              "      <div>\n",
              "<style scoped>\n",
              "    .dataframe tbody tr th:only-of-type {\n",
              "        vertical-align: middle;\n",
              "    }\n",
              "\n",
              "    .dataframe tbody tr th {\n",
              "        vertical-align: top;\n",
              "    }\n",
              "\n",
              "    .dataframe thead th {\n",
              "        text-align: right;\n",
              "    }\n",
              "</style>\n",
              "<table border=\"1\" class=\"dataframe\">\n",
              "  <thead>\n",
              "    <tr style=\"text-align: right;\">\n",
              "      <th></th>\n",
              "      <th>test group</th>\n",
              "      <th>most ads day</th>\n",
              "    </tr>\n",
              "  </thead>\n",
              "  <tbody>\n",
              "    <tr>\n",
              "      <th>count</th>\n",
              "      <td>588101</td>\n",
              "      <td>588101</td>\n",
              "    </tr>\n",
              "    <tr>\n",
              "      <th>unique</th>\n",
              "      <td>2</td>\n",
              "      <td>7</td>\n",
              "    </tr>\n",
              "    <tr>\n",
              "      <th>top</th>\n",
              "      <td>ad</td>\n",
              "      <td>Friday</td>\n",
              "    </tr>\n",
              "    <tr>\n",
              "      <th>freq</th>\n",
              "      <td>564577</td>\n",
              "      <td>92608</td>\n",
              "    </tr>\n",
              "  </tbody>\n",
              "</table>\n",
              "</div>\n",
              "      <button class=\"colab-df-convert\" onclick=\"convertToInteractive('df-1f79c9a0-179d-47a8-b598-9981b75b6828')\"\n",
              "              title=\"Convert this dataframe to an interactive table.\"\n",
              "              style=\"display:none;\">\n",
              "        \n",
              "  <svg xmlns=\"http://www.w3.org/2000/svg\" height=\"24px\"viewBox=\"0 0 24 24\"\n",
              "       width=\"24px\">\n",
              "    <path d=\"M0 0h24v24H0V0z\" fill=\"none\"/>\n",
              "    <path d=\"M18.56 5.44l.94 2.06.94-2.06 2.06-.94-2.06-.94-.94-2.06-.94 2.06-2.06.94zm-11 1L8.5 8.5l.94-2.06 2.06-.94-2.06-.94L8.5 2.5l-.94 2.06-2.06.94zm10 10l.94 2.06.94-2.06 2.06-.94-2.06-.94-.94-2.06-.94 2.06-2.06.94z\"/><path d=\"M17.41 7.96l-1.37-1.37c-.4-.4-.92-.59-1.43-.59-.52 0-1.04.2-1.43.59L10.3 9.45l-7.72 7.72c-.78.78-.78 2.05 0 2.83L4 21.41c.39.39.9.59 1.41.59.51 0 1.02-.2 1.41-.59l7.78-7.78 2.81-2.81c.8-.78.8-2.07 0-2.86zM5.41 20L4 18.59l7.72-7.72 1.47 1.35L5.41 20z\"/>\n",
              "  </svg>\n",
              "      </button>\n",
              "      \n",
              "  <style>\n",
              "    .colab-df-container {\n",
              "      display:flex;\n",
              "      flex-wrap:wrap;\n",
              "      gap: 12px;\n",
              "    }\n",
              "\n",
              "    .colab-df-convert {\n",
              "      background-color: #E8F0FE;\n",
              "      border: none;\n",
              "      border-radius: 50%;\n",
              "      cursor: pointer;\n",
              "      display: none;\n",
              "      fill: #1967D2;\n",
              "      height: 32px;\n",
              "      padding: 0 0 0 0;\n",
              "      width: 32px;\n",
              "    }\n",
              "\n",
              "    .colab-df-convert:hover {\n",
              "      background-color: #E2EBFA;\n",
              "      box-shadow: 0px 1px 2px rgba(60, 64, 67, 0.3), 0px 1px 3px 1px rgba(60, 64, 67, 0.15);\n",
              "      fill: #174EA6;\n",
              "    }\n",
              "\n",
              "    [theme=dark] .colab-df-convert {\n",
              "      background-color: #3B4455;\n",
              "      fill: #D2E3FC;\n",
              "    }\n",
              "\n",
              "    [theme=dark] .colab-df-convert:hover {\n",
              "      background-color: #434B5C;\n",
              "      box-shadow: 0px 1px 3px 1px rgba(0, 0, 0, 0.15);\n",
              "      filter: drop-shadow(0px 1px 2px rgba(0, 0, 0, 0.3));\n",
              "      fill: #FFFFFF;\n",
              "    }\n",
              "  </style>\n",
              "\n",
              "      <script>\n",
              "        const buttonEl =\n",
              "          document.querySelector('#df-1f79c9a0-179d-47a8-b598-9981b75b6828 button.colab-df-convert');\n",
              "        buttonEl.style.display =\n",
              "          google.colab.kernel.accessAllowed ? 'block' : 'none';\n",
              "\n",
              "        async function convertToInteractive(key) {\n",
              "          const element = document.querySelector('#df-1f79c9a0-179d-47a8-b598-9981b75b6828');\n",
              "          const dataTable =\n",
              "            await google.colab.kernel.invokeFunction('convertToInteractive',\n",
              "                                                     [key], {});\n",
              "          if (!dataTable) return;\n",
              "\n",
              "          const docLinkHtml = 'Like what you see? Visit the ' +\n",
              "            '<a target=\"_blank\" href=https://colab.research.google.com/notebooks/data_table.ipynb>data table notebook</a>'\n",
              "            + ' to learn more about interactive tables.';\n",
              "          element.innerHTML = '';\n",
              "          dataTable['output_type'] = 'display_data';\n",
              "          await google.colab.output.renderOutput(dataTable, element);\n",
              "          const docLink = document.createElement('div');\n",
              "          docLink.innerHTML = docLinkHtml;\n",
              "          element.appendChild(docLink);\n",
              "        }\n",
              "      </script>\n",
              "    </div>\n",
              "  </div>\n",
              "  "
            ]
          },
          "metadata": {}
        }
      ]
    },
    {
      "cell_type": "markdown",
      "source": [
        "# Exploratory Analysis"
      ],
      "metadata": {
        "id": "F-vfEIqxixQj"
      }
    },
    {
      "cell_type": "code",
      "source": [
        "df.groupby('user id').count().max()"
      ],
      "metadata": {
        "colab": {
          "base_uri": "https://localhost:8080/"
        },
        "id": "amfH-GAo6jGz",
        "outputId": "c993ab4b-0c8e-4ef9-fe13-1c00231fd1fe"
      },
      "execution_count": null,
      "outputs": [
        {
          "output_type": "execute_result",
          "data": {
            "text/plain": [
              "test group       1\n",
              "converted        1\n",
              "total ads        1\n",
              "most ads day     1\n",
              "most ads hour    1\n",
              "dtype: int64"
            ]
          },
          "metadata": {},
          "execution_count": 5
        }
      ]
    },
    {
      "cell_type": "markdown",
      "source": [
        "There is only one entry in df for every user."
      ],
      "metadata": {
        "id": "GvVlODFkv_JU"
      }
    },
    {
      "cell_type": "code",
      "source": [
        "fig, ax = plt.subplots(1, 2, figsize=(20,4))\n",
        "\n",
        "df.groupby('total ads').count().iloc[:,0].hist(ax=ax[0], bins=50)\n",
        "ax[0].set_title('Distribution of Total Ads seen')\n",
        "ax[0].set_ylabel('Total Ads')\n",
        "ax[0].set_xlabel('Number of Customers')\n",
        "\n",
        "cats = ['Monday', 'Tuesday', 'Wednesday', 'Thursday', 'Friday', 'Saturday', 'Sunday']\n",
        "s = df.groupby(['most ads day', 'converted'], as_index=False).agg({'user id':'count'})\n",
        "s['most ads day'] = pd.Categorical(s['most ads day'], categories=cats, ordered=True)\n",
        "s = s.sort_values('most ads day').reset_index(drop=True)\n",
        "s.loc[s.converted == 0,'converted'] = 'Customers are not converted'\n",
        "s.loc[s.converted == 1,'converted'] = 'Customers are converted'\n",
        "sns.barplot(data=s, x='most ads day', y='user id', hue='converted', ax=ax[1])\n",
        "for i in s.index:\n",
        "  ax[1].annotate(str(s.loc[i, 'user id']), xy=(i//2, s.loc[i, 'user id']))\n",
        "ax[1].legend(loc='center left')\n",
        "ax[1].set_title('Total Convertion by Day of the Week')\n",
        "\n",
        "plt.show()"
      ],
      "metadata": {
        "colab": {
          "base_uri": "https://localhost:8080/",
          "height": 410
        },
        "id": "wFlPE_d6VREk",
        "outputId": "b85f53ef-d8e2-408d-f44b-a8ef4492c0a2"
      },
      "execution_count": null,
      "outputs": [
        {
          "output_type": "display_data",
          "data": {
            "text/plain": [
              "<Figure size 2000x400 with 2 Axes>"
            ],
            "image/png": "[encoded data removed]"
          },
          "metadata": {}
        }
      ]
    },
    {
      "cell_type": "code",
      "source": [
        "small_amount_of_ads = [1, 5, 10, 20, 50, 100, 500, 1000]\n",
        "\n",
        "for amount in small_amount_of_ads:\n",
        "  percent = np.round(df[df['total ads']<=amount].shape[0] / df.shape[0] * 100,2)\n",
        "  print(f\"{amount}{' '*(4-len(str(amount)))}  or fewer ads were seen by {percent} %{' '*(5-len(str(percent)))}  of users.\")"
      ],
      "metadata": {
        "colab": {
          "base_uri": "https://localhost:8080/"
        },
        "id": "eetNyRghv3r1",
        "outputId": "22bef2a6-ae58-4a42-9377-015736c217c5"
      },
      "execution_count": null,
      "outputs": [
        {
          "output_type": "stream",
          "name": "stdout",
          "text": [
            "1     or fewer ads were seen by 9.63 %   of users.\n",
            "5     or fewer ads were seen by 30.24 %  of users.\n",
            "10    or fewer ads were seen by 44.34 %  of users.\n",
            "20    or fewer ads were seen by 66.02 %  of users.\n",
            "50    or fewer ads were seen by 88.26 %  of users.\n",
            "100   or fewer ads were seen by 96.08 %  of users.\n",
            "500   or fewer ads were seen by 99.9 %   of users.\n",
            "1000  or fewer ads were seen by 99.99 %  of users.\n"
          ]
        }
      ]
    },
    {
      "cell_type": "markdown",
      "source": [
        "Distribution of Total Ads seen by Customers is highly skewed.\n",
        "We can conclude that around 5000 customers have seen ads up to 700 times per visit. Such skewness may be caused by ad blockers or some other technical issues. I would not consider such scenarios as outliers. But most customers (88%) saw 50 or less ads per one visit. <br>\n",
        "\n",
        "The most ads were viewed on Friday, and the least ads were viewed on Tuesday. We can not conclude which day was the most profitable in terms of conversion though. We only can see how many people attended the website and how many of them were converted during the specific day. For gaining more information some additional relative metrics are needed."
      ],
      "metadata": {
        "id": "oeMRlJJm83Po"
      }
    },
    {
      "cell_type": "code",
      "source": [
        "# print('Accounting users ')\n",
        "for day in s['most ads day'].unique():\n",
        "  temp = s[s['most ads day']==day]\n",
        "  temp.reset_index(drop=True, inplace=True)\n",
        "  tot = temp['user id'][0] + temp['user id'][1]\n",
        "  a = np.round(temp['user id'][0]/(tot)*100,3)\n",
        "  b = np.round(temp['user id'][1]/(tot)*100,3)\n",
        "  c = np.round(temp['user id'][1]/(s['user id'].sum())*100,3)\n",
        "  print(f\"On {day}{' '*(9-len(day))} {b} % of users made purchases out of {tot} people who attended the website during that specific day. And only {' '*(5-len(str(c)))}{c} % of users considering the whole week conversion.\")\n"
      ],
      "metadata": {
        "colab": {
          "base_uri": "https://localhost:8080/"
        },
        "id": "0skVxAoT7_6Q",
        "outputId": "4210e166-6ac5-4da6-9fbc-6ea6bc82f526"
      },
      "execution_count": null,
      "outputs": [
        {
          "output_type": "stream",
          "name": "stdout",
          "text": [
            "On Monday    3.281 % of users made purchases out of 87073 people who attended the website during that specific day. And only 0.486 % of users considering the whole week conversion.\n",
            "On Tuesday   2.984 % of users made purchases out of 77479 people who attended the website during that specific day. And only 0.393 % of users considering the whole week conversion.\n",
            "On Wednesday 2.494 % of users made purchases out of 80908 people who attended the website during that specific day. And only 0.343 % of users considering the whole week conversion.\n",
            "On Thursday  2.157 % of users made purchases out of 82982 people who attended the website during that specific day. And only 0.304 % of users considering the whole week conversion.\n",
            "On Friday    2.221 % of users made purchases out of 92608 people who attended the website during that specific day. And only  0.35 % of users considering the whole week conversion.\n",
            "On Saturday  2.105 % of users made purchases out of 81660 people who attended the website during that specific day. And only 0.292 % of users considering the whole week conversion.\n",
            "On Sunday    2.448 % of users made purchases out of 85391 people who attended the website during that specific day. And only 0.355 % of users considering the whole week conversion.\n"
          ]
        }
      ]
    },
    {
      "cell_type": "markdown",
      "source": [
        "Now we can see that the most profitable day in terms of conversoion was Monday. Almost 0.5% of the whole week sales were made on that day. And the least profitable day was Saturday."
      ],
      "metadata": {
        "id": "ZnTiEij8mDx3"
      }
    },
    {
      "cell_type": "code",
      "source": [
        "t = df.groupby('test group').agg({'user id':'count', 'converted':'mean', 'total ads':['mean', 'median']})\n",
        "\n",
        "fig, ax = plt.subplots(1, 3, figsize=(20,4))\n",
        "\n",
        "t['total ads'].plot(kind='bar', ax=ax[0])\n",
        "ax[0].legend(loc='center left')\n",
        "ax[0].set_title('Mean and Median Values for Total Ads by Group')\n",
        "for i in range(2):\n",
        "  ax[0].annotate(str(np.round(t.iloc[i, 2],2)), xy=(i-0.2, t.iloc[i, 2]))\n",
        "  ax[0].annotate(str(np.round(t.iloc[i, 3],2)), xy=(i+0.1, t.iloc[i, 3]))\n",
        "\n",
        "t['user id'].plot(kind='bar', ax=ax[1])\n",
        "ax[1].set_title('Number of Users in Each Group')\n",
        "for i in range(2):\n",
        "  ax[1].annotate(str(t.iloc[i, 0]), xy=(i-0.1, t.iloc[i, 0]))\n",
        "\n",
        "\n",
        "t['converted'].plot(kind='bar', ax=ax[2])\n",
        "ax[2].set_title('Mean Convertion Rate by Group')\n",
        "for i in range(2):\n",
        "  ax[2].annotate(str(np.round(t.iloc[i, 1]*100,2)) + '%', xy=(i-0.1, t.iloc[i, 1]))\n",
        "\n",
        "plt.show()"
      ],
      "metadata": {
        "colab": {
          "base_uri": "https://localhost:8080/",
          "height": 421
        },
        "id": "zBaHwBwoE18i",
        "outputId": "fd519ae4-4faf-420b-a5b0-68d326496a4e"
      },
      "execution_count": null,
      "outputs": [
        {
          "output_type": "display_data",
          "data": {
            "text/plain": [
              "<Figure size 2000x400 with 3 Axes>"
            ],
            "image/png": "[encoded data removed]"
          },
          "metadata": {}
        }
      ]
    },
    {
      "cell_type": "markdown",
      "source": [
        "Mean values for different groups are roughly equal (aproximately 24 ads per person). Bearing in mind the fact that distribution of total ads seen by customers is highly skewed it's better to use median values to evaluate average amount of ads seen by person. Based on this fact we can conclude that total amount of ads seen by different group slightly differs: 13 ads per person in control group and 12 ads per person in test group.\n",
        "\n",
        "23 252 people saw Public Service Announcement. It is aproximately 4% out of the 588 101 people who were exposed to any of company's marketing campaign. The convertion rate for users who have seen the special advertisement is 2.5% and for those who haven't is 1.79%."
      ],
      "metadata": {
        "id": "NUoPUUGNXe1G"
      }
    },
    {
      "cell_type": "markdown",
      "source": [
        "# A/B test\n",
        "We have gained some insights of our dataset. Now it's time to answer our business questions:\n",
        "- Would the campaign be successful?\n",
        "- If the campaign was successful, how much of that success could be attributed to the ads?\n",
        "\n",
        "Those questions imply some hypotheses testing. We can consider convertion rate as the quantitative variable (mean convertion rate) and marketing group as categorical variable. For such instances proportion z-test would be suitable.\n",
        "\n",
        "\n",
        "The hypotheses are as follows: <br>\n",
        "$H_0:\\mu_{ad} = \\mu_{psa}  $ <br>\n",
        "$H_1:\\mu_{ad} > \\mu_{psa}  $ <br>\n",
        "\n",
        "Or in other words: is mean convertion rate among different types of advertisement are the same (H0) or do they differ (H1)? Did special ad bring some extra conversion?\n"
      ],
      "metadata": {
        "id": "W8aiFqabfBTt"
      }
    },
    {
      "cell_type": "code",
      "source": [
        "from statsmodels.stats.proportion import proportions_ztest\n",
        "\n",
        "successes = df.groupby(['converted', 'test group'])['user id'].count()[2:].values\n",
        "n_obs = df.groupby(['test group'])['user id'].count().values\n",
        "\n",
        "test_stat, pvalue = proportions_ztest(count=successes, nobs=n_obs, alternative='larger')\n",
        "\n",
        "print(f'Test Stat = {test_stat}, p-value = {pvalue}')"
      ],
      "metadata": {
        "colab": {
          "base_uri": "https://localhost:8080/"
        },
        "id": "27-iU4xzX5lx",
        "outputId": "951299fa-036d-44f9-e3fd-5ecfc31061f7"
      },
      "execution_count": null,
      "outputs": [
        {
          "output_type": "stream",
          "name": "stdout",
          "text": [
            "Test Stat = 7.3701, p-value = 0.0000\n"
          ]
        }
      ]
    },
    {
      "cell_type": "markdown",
      "source": [
        "Since our p-value is below the critical value of 5%, we reject the null hypothesis. At this significance level, it can be concluded that mean convertion rate of special advertisement is greater that the one of public service announcement.\n"
      ],
      "metadata": {
        "id": "D0IfqE_5VYhX"
      }
    },
    {
      "cell_type": "markdown",
      "source": [
        "# Conclusions\n",
        "We can say with confidence that campaign would be successful. According to our A/B testing, we saw a signficant difference conversion rates between the two types of advertisement. Judging by conducted EDA, special advertisement would bring 0.76% more conversion than the public service announcement.\n"
      ],
      "metadata": {
        "id": "IaTfXDhKRKCB"
      }
    }
  ]
}